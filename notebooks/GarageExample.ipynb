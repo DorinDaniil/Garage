{
 "cells": [
  {
   "cell_type": "markdown",
   "id": "42762e28-ddc2-4053-a9a2-983f8beada3c",
   "metadata": {},
   "source": [
    "### Imports"
   ]
  },
  {
   "cell_type": "code",
   "execution_count": 1,
   "id": "3458eb91-216b-498a-ada8-79100c79b300",
   "metadata": {},
   "outputs": [],
   "source": [
    "from Garage import Augmenter\n",
    "from PIL import Image\n",
    "\n",
    "%load_ext autoreload\n",
    "%autoreload 2"
   ]
  },
  {
   "cell_type": "markdown",
   "id": "5027a8d2-4579-42c3-aadb-6fc5fbaf1fd0",
   "metadata": {},
   "source": [
    "### Model initialization"
   ]
  },
  {
   "cell_type": "code",
   "execution_count": null,
   "id": "edbc4812-15a0-4cbf-85fb-6dc64e2031a6",
   "metadata": {},
   "outputs": [],
   "source": [
    "model = Augmenter()"
   ]
  },
  {
   "cell_type": "markdown",
   "id": "04e9f042-9197-4884-afb7-da1dcea7ab49",
   "metadata": {},
   "source": [
    "### Examples of working"
   ]
  },
  {
   "cell_type": "code",
   "execution_count": 3,
   "id": "5a7e688d",
   "metadata": {},
   "outputs": [],
   "source": [
    "image = Image.open(\"examples/image.jpg\")\n",
    "cat_mask = Image.open(\"examples/cat_mask.jpg\")"
   ]
  },
  {
   "cell_type": "code",
   "execution_count": null,
   "id": "76f8bfa9-5385-40a0-b8bb-3d5406475e76",
   "metadata": {},
   "outputs": [],
   "source": [
    "new_image, (prompt, new_object) = model(image=image,\n",
    "                                    mask=cat_mask,\n",
    "                                    current_object=\"cat\",\n",
    "                                    new_objects_list=None,\n",
    "                                    ddim_steps=50,\n",
    "                                    guidance_scale=5,\n",
    "                                    seed=42,\n",
    "                                    return_prompt=True)\n",
    "\n",
    "print(f'New object: {new_object}, prompt: {prompt}\\n')\n",
    "new_image.show()"
   ]
  },
  {
   "cell_type": "code",
   "execution_count": null,
   "id": "8d7c96ce",
   "metadata": {},
   "outputs": [],
   "source": [
    "new_image, (prompt, new_object) = model(image=image,\n",
    "                                    mask=cat_mask,\n",
    "                                    current_object=\"cat\",\n",
    "                                    new_objects_list=[\"wolf\", \"train\", \"tree\", \"rabbit\", \"bear\", \"car\"],\n",
    "                                    ddim_steps=50,\n",
    "                                    guidance_scale=5,\n",
    "                                    seed=42,\n",
    "                                    return_prompt=True)\n",
    "\n",
    "print(f'New object: {new_object}, prompt: {prompt}\\n')\n",
    "new_image.show()"
   ]
  }
 ],
 "metadata": {
  "kernelspec": {
   "display_name": "gen_aug",
   "language": "python",
   "name": "python3"
  },
  "language_info": {
   "codemirror_mode": {
    "name": "ipython",
    "version": 3
   },
   "file_extension": ".py",
   "mimetype": "text/x-python",
   "name": "python",
   "nbconvert_exporter": "python",
   "pygments_lexer": "ipython3",
   "version": "3.10.14"
  }
 },
 "nbformat": 4,
 "nbformat_minor": 5
}
